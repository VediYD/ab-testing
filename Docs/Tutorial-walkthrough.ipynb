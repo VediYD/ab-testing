{
 "cells": [
  {
   "cell_type": "markdown",
   "id": "ddb05353-3743-457a-8011-3d90bdd0ef16",
   "metadata": {},
   "source": [
    "# A/B Testing"
   ]
  },
  {
   "cell_type": "code",
   "execution_count": null,
   "id": "3de29c2f-2823-4002-a7a0-984d892833c7",
   "metadata": {},
   "outputs": [],
   "source": [
    "!pip install ab-testing-analysis"
   ]
  },
  {
   "cell_type": "code",
   "execution_count": null,
   "id": "3fd4c320-06f5-4d72-8ca9-1a9e54a9b92e",
   "metadata": {},
   "outputs": [],
   "source": [
    "import pandas as pd"
   ]
  },
  {
   "cell_type": "code",
   "execution_count": null,
   "id": "48ca821b-975c-4c0d-90de-568f9d034e41",
   "metadata": {},
   "outputs": [],
   "source": [
    "from ab_testing import ABTest"
   ]
  },
  {
   "cell_type": "code",
   "execution_count": 3,
   "id": "d9787b79-5db7-4a40-bfa4-ff28d995a816",
   "metadata": {},
   "outputs": [
    {
     "data": {
      "text/html": [
       "<div>\n",
       "<style scoped>\n",
       "    .dataframe tbody tr th:only-of-type {\n",
       "        vertical-align: middle;\n",
       "    }\n",
       "\n",
       "    .dataframe tbody tr th {\n",
       "        vertical-align: top;\n",
       "    }\n",
       "\n",
       "    .dataframe thead th {\n",
       "        text-align: right;\n",
       "    }\n",
       "</style>\n",
       "<table border=\"1\" class=\"dataframe\">\n",
       "  <thead>\n",
       "    <tr style=\"text-align: right;\">\n",
       "      <th></th>\n",
       "      <th>user_id</th>\n",
       "      <th>group</th>\n",
       "      <th>converted</th>\n",
       "    </tr>\n",
       "  </thead>\n",
       "  <tbody>\n",
       "    <tr>\n",
       "      <th>0</th>\n",
       "      <td>851104</td>\n",
       "      <td>control</td>\n",
       "      <td>0</td>\n",
       "    </tr>\n",
       "    <tr>\n",
       "      <th>1</th>\n",
       "      <td>804228</td>\n",
       "      <td>control</td>\n",
       "      <td>0</td>\n",
       "    </tr>\n",
       "    <tr>\n",
       "      <th>2</th>\n",
       "      <td>661590</td>\n",
       "      <td>treatment</td>\n",
       "      <td>0</td>\n",
       "    </tr>\n",
       "    <tr>\n",
       "      <th>3</th>\n",
       "      <td>853541</td>\n",
       "      <td>treatment</td>\n",
       "      <td>0</td>\n",
       "    </tr>\n",
       "    <tr>\n",
       "      <th>4</th>\n",
       "      <td>864975</td>\n",
       "      <td>control</td>\n",
       "      <td>1</td>\n",
       "    </tr>\n",
       "  </tbody>\n",
       "</table>\n",
       "</div>"
      ],
      "text/plain": [
       "   user_id      group  converted\n",
       "0   851104    control          0\n",
       "1   804228    control          0\n",
       "2   661590  treatment          0\n",
       "3   853541  treatment          0\n",
       "4   864975    control          1"
      ]
     },
     "execution_count": 3,
     "metadata": {},
     "output_type": "execute_result"
    }
   ],
   "source": [
    "df = pd.read_csv('ab_data.csv',usecols=['user_id','group','converted'])\n",
    "df.head()"
   ]
  },
  {
   "cell_type": "code",
   "execution_count": 7,
   "id": "6240bf2a-70f0-4c37-8221-c159c127b766",
   "metadata": {},
   "outputs": [
    {
     "name": "stdout",
     "output_type": "stream",
     "text": [
      "294478\n",
      "['control' 'treatment']\n",
      "[0 1]\n"
     ]
    }
   ],
   "source": [
    "print(df.shape[0])\n",
    "print(df.group.unique())\n",
    "print(df.converted.unique())"
   ]
  },
  {
   "cell_type": "code",
   "execution_count": 8,
   "id": "c7281f66-2b6d-4384-8946-366134e57a7f",
   "metadata": {},
   "outputs": [
    {
     "name": "stdout",
     "output_type": "stream",
     "text": [
      "          Conversion Rate Standard Deviation Standar Error\n",
      "control            12.04%              0.325      0.000848\n",
      "treatment          11.89%              0.324      0.000843\n"
     ]
    }
   ],
   "source": [
    "ab_obj = ABTest(df,response_column='converted',group_column='group')\n",
    "\n",
    "print(ab_obj.conversion_rate())"
   ]
  },
  {
   "cell_type": "markdown",
   "id": "7e947e7c-7177-412b-bb7e-b8dba824b42c",
   "metadata": {},
   "source": [
    "# END"
   ]
  }
 ],
 "metadata": {
  "kernelspec": {
   "display_name": "testab",
   "language": "python",
   "name": "testab"
  },
  "language_info": {
   "codemirror_mode": {
    "name": "ipython",
    "version": 3
   },
   "file_extension": ".py",
   "mimetype": "text/x-python",
   "name": "python",
   "nbconvert_exporter": "python",
   "pygments_lexer": "ipython3",
   "version": "3.8.10"
  }
 },
 "nbformat": 4,
 "nbformat_minor": 5
}
