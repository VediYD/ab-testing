{
 "cells": [
  {
   "cell_type": "markdown",
   "id": "ddb05353-3743-457a-8011-3d90bdd0ef16",
   "metadata": {},
   "source": [
    "# A/B Testing\n",
    "\n",
    "A library designed to help the Data scientist, Developer & Data analyst to quickly build report and analysis the performance of the A/B test. Link to GitHub and Pypi can be found below.\n",
    "\n",
    "+ [GitHub-ab-testing](https://github.com/mihir-workspace/ab-testing)\n",
    "+ [PyPi-ab-testing](https://pypi.org/project/ab-testing-analysis/)"
   ]
  },
  {
   "cell_type": "code",
   "execution_count": null,
   "id": "3de29c2f-2823-4002-a7a0-984d892833c7",
   "metadata": {},
   "outputs": [],
   "source": [
    "!pip install ab-testing-analysis"
   ]
  },
  {
   "cell_type": "markdown",
   "id": "664bab61-9ba0-45a8-bf67-c2d3bae14f52",
   "metadata": {},
   "source": [
    "ABTest class which has all methods and functionality to build the A/B report.\n",
    "\n",
    "In the usecase will use a fake dataset, from Dataset class"
   ]
  },
  {
   "cell_type": "code",
   "execution_count": 3,
   "id": "48ca821b-975c-4c0d-90de-568f9d034e41",
   "metadata": {},
   "outputs": [],
   "source": [
    "# Importing the library\n",
    "from ab_testing import ABTest\n",
    "from ab_testing.data import Dataset"
   ]
  },
  {
   "cell_type": "markdown",
   "id": "5c7b4e33-93e0-4302-a3c8-9ef7e9195e56",
   "metadata": {},
   "source": [
    "Sample of the Dataset"
   ]
  },
  {
   "cell_type": "code",
   "execution_count": 5,
   "id": "f24923e2-9249-4c91-a5f3-a9d90a952cbe",
   "metadata": {},
   "outputs": [
    {
     "data": {
      "text/html": [
       "<div>\n",
       "<style scoped>\n",
       "    .dataframe tbody tr th:only-of-type {\n",
       "        vertical-align: middle;\n",
       "    }\n",
       "\n",
       "    .dataframe tbody tr th {\n",
       "        vertical-align: top;\n",
       "    }\n",
       "\n",
       "    .dataframe thead th {\n",
       "        text-align: right;\n",
       "    }\n",
       "</style>\n",
       "<table border=\"1\" class=\"dataframe\">\n",
       "  <thead>\n",
       "    <tr style=\"text-align: right;\">\n",
       "      <th></th>\n",
       "      <th>Users</th>\n",
       "      <th>Response</th>\n",
       "      <th>Group</th>\n",
       "    </tr>\n",
       "  </thead>\n",
       "  <tbody>\n",
       "    <tr>\n",
       "      <th>0</th>\n",
       "      <td>RWEWC4QDBA</td>\n",
       "      <td>0</td>\n",
       "      <td>A</td>\n",
       "    </tr>\n",
       "    <tr>\n",
       "      <th>1</th>\n",
       "      <td>0GTOC2IYCZ</td>\n",
       "      <td>0</td>\n",
       "      <td>A</td>\n",
       "    </tr>\n",
       "    <tr>\n",
       "      <th>2</th>\n",
       "      <td>559T2ZZRIN</td>\n",
       "      <td>1</td>\n",
       "      <td>A</td>\n",
       "    </tr>\n",
       "    <tr>\n",
       "      <th>3</th>\n",
       "      <td>NN2GCWVEHD</td>\n",
       "      <td>0</td>\n",
       "      <td>A</td>\n",
       "    </tr>\n",
       "    <tr>\n",
       "      <th>4</th>\n",
       "      <td>96UWLXGJEQ</td>\n",
       "      <td>0</td>\n",
       "      <td>A</td>\n",
       "    </tr>\n",
       "  </tbody>\n",
       "</table>\n",
       "</div>"
      ],
      "text/plain": [
       "        Users  Response Group\n",
       "0  RWEWC4QDBA         0     A\n",
       "1  0GTOC2IYCZ         0     A\n",
       "2  559T2ZZRIN         1     A\n",
       "3  NN2GCWVEHD         0     A\n",
       "4  96UWLXGJEQ         0     A"
      ]
     },
     "execution_count": 5,
     "metadata": {},
     "output_type": "execute_result"
    }
   ],
   "source": [
    "# Creating the Dataframe of Users, their response and Group they belong to\n",
    "df = Dataset().data()\n",
    "df.head()"
   ]
  },
  {
   "cell_type": "markdown",
   "id": "0e7fd130-957f-451d-9864-340a3050cec0",
   "metadata": {},
   "source": [
    "MetaData of the Users/DataFrame"
   ]
  },
  {
   "cell_type": "code",
   "execution_count": 13,
   "id": "6240bf2a-70f0-4c37-8221-c159c127b766",
   "metadata": {},
   "outputs": [
    {
     "name": "stdout",
     "output_type": "stream",
     "text": [
      "Total number of the Users/records:  1000 \n",
      "\n",
      "Group \"A\" response distribution\n",
      "0    395\n",
      "1    105\n",
      "Name: Response, dtype: int64\n",
      "\n",
      "Group \"B\" response distribution\n",
      "0    396\n",
      "1    104\n",
      "Name: Response, dtype: int64\n"
     ]
    }
   ],
   "source": [
    "print('Total number of the Users/records: ',df.shape[0],'\\n')\n",
    "print('Group \"A\" response distribution')\n",
    "print(df[df.Group=='A'].Response.value_counts())\n",
    "print('\\nGroup \"B\" response distribution')\n",
    "print(df[df.Group=='B'].Response.value_counts())"
   ]
  },
  {
   "cell_type": "markdown",
   "id": "0d8a9638-2dfb-4dd6-8d1a-2d4a3e536465",
   "metadata": {},
   "source": [
    "#### Conversion rate report\n",
    "Class parameters,\n",
    "+ df = Our final dataframe\n",
    "+ response_column = A column which has 1 or 0 correspond to user being converted or not respectively.\n",
    "+ group_column = A column name which indicate the user belong to which group A or B"
   ]
  },
  {
   "cell_type": "code",
   "execution_count": 14,
   "id": "c7281f66-2b6d-4384-8946-366134e57a7f",
   "metadata": {},
   "outputs": [
    {
     "name": "stdout",
     "output_type": "stream",
     "text": [
      "  Conversion Rate Standard Deviation Standar Error\n",
      "A          21.00%              0.407        0.0182\n",
      "B          20.80%              0.406        0.0182\n"
     ]
    }
   ],
   "source": [
    "ab_obj = ABTest(df,response_column='Response',group_column='Group')\n",
    "\n",
    "print(ab_obj.conversion_rate())"
   ]
  },
  {
   "cell_type": "markdown",
   "id": "7e947e7c-7177-412b-bb7e-b8dba824b42c",
   "metadata": {},
   "source": [
    "# END"
   ]
  }
 ],
 "metadata": {
  "kernelspec": {
   "display_name": "testab",
   "language": "python",
   "name": "testab"
  },
  "language_info": {
   "codemirror_mode": {
    "name": "ipython",
    "version": 3
   },
   "file_extension": ".py",
   "mimetype": "text/x-python",
   "name": "python",
   "nbconvert_exporter": "python",
   "pygments_lexer": "ipython3",
   "version": "3.8.10"
  }
 },
 "nbformat": 4,
 "nbformat_minor": 5
}
